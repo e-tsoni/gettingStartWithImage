{
 "cells": [
  {
   "cell_type": "markdown",
   "source": [
    "# Pixels and Colors\n",
    "Let's first look at the numerical representation and storage of an image.<br>\n",
    "Pixels, also referred to as picture elements, are the smallest unit of an image. Essentially, it's just a dot in the image.<br>Numerous pixels are grouped in **rows and columns** within an image. The number of rows and columns is frequently stated as the image **resolution**.<br>An Ultra HD TV, for instance, measures 3840 pixels wide by 2160 pixels high, or 3840x2160 pixels.<br>Each pixel has a particular color. But they are not recognized as color dots by a computer.<br> A computer can only understand numerical data.<br>\n",
    "![example_of_pixels_in_image](imgs/pixels_example.jpg)\n"
   ],
   "metadata": {
    "collapsed": false
   },
   "id": "21870cbdc637190b"
  },
  {
   "cell_type": "markdown",
   "source": [
    "## Black and White Images\n",
    "Each pixel in a grayscale (black and white) image is a **single number that indicates the intensity —or amount— of light** that it contains.<br>The range of intensities in many applications is 0 (black) to 255 (white).<br>Grayscale is present in all values between 0 and 255.<br>\n",
    "![example_of_pixels_intensity_in_grayscale_image](imgs/grayscale_image_intensity.png)\n"
   ],
   "metadata": {
    "collapsed": false
   },
   "id": "22709b5506028285"
  },
  {
   "cell_type": "markdown",
   "source": [
    "In the following lines of code, we will use python to **read a black and white image** and see **how it is represented on a computer**.\n"
   ],
   "metadata": {
    "collapsed": false
   },
   "id": "3ee1d7052cbd73"
  },
  {
   "cell_type": "code",
   "execution_count": 1,
   "outputs": [
    {
     "name": "stdout",
     "output_type": "stream",
     "text": [
      "The array of the image:\n",
      " [[ 7  7  7 ... 28 27 27]\n",
      " [ 7  7  7 ... 28 28 27]\n",
      " [ 7  7  7 ... 28 28 28]\n",
      " ...\n",
      " [ 0  0  0 ...  3  3  3]\n",
      " [ 0  0  0 ...  3  3  3]\n",
      " [ 0  0  0 ...  4  4  4]]\n",
      "Image format: None\n",
      "Image mode: L\n",
      "Image size: (728, 729)\n"
     ]
    }
   ],
   "source": [
    "from PIL import Image\n",
    "import numpy as np\n",
    "\n",
    "# Specify the path to our black and white image\n",
    "image_path = 'imgs/kitten-black-white.jpg'\n",
    "\n",
    "# Open the image (color: rbg)\n",
    "image = Image.open(image_path)\n",
    "# Convert the RGB image to grayscale\n",
    "gray_image = image.convert('L')\n",
    "\n",
    "# Convert the image to a NumPy array\n",
    "image_array = np.array(gray_image)\n",
    "\n",
    "# Print the NumPy array and display basic information about the image\n",
    "print(f\"The array of the image:\\n {image_array}\")\n",
    "print(f\"Image format: {gray_image.format}\")\n",
    "print(f\"Image mode: {gray_image.mode}\")\n",
    "print(f\"Image size: {gray_image.size}\")\n",
    "\n",
    "# Show the image\n",
    "image.show()\n"
   ],
   "metadata": {
    "collapsed": false,
    "ExecuteTime": {
     "end_time": "2023-11-29T13:59:12.456022600Z",
     "start_time": "2023-11-29T13:59:08.674967Z"
    }
   },
   "id": "602fe2bd244d9ee"
  },
  {
   "cell_type": "markdown",
   "source": [
    "Breakdown of the code:\n",
    "- Image.open(image_path): Opens the image file specified by image_path.\n",
    "- rgb_image.convert('L'): Converts the RGB image to grayscale.\n",
    "- np.array(image): Converts the image to a NumPy array. For a black and white image, each element of the array will represent the intensity of a pixel.\n",
    "- print(image_array): print the array directly. Might not be practical for large images, but it will show you the numerical representation of the pixel values.\n",
    "- image.format: Returns the file format of the image (e.g., JPEG, PNG)\n",
    "- image.mode: Returns the color mode of the image (e.g., 'L' for grayscale, 'RGB' for color).\n",
    "- image.size: Returns a tuple representing the width and height of the image in pixels.\n",
    "- image.show(): Opens the default image viewer to display the image.\n"
   ],
   "metadata": {
    "collapsed": false
   },
   "id": "a386a62eed0e0a50"
  },
  {
   "cell_type": "markdown",
   "source": [
    "So, let's say we want to see the **intensity value** contained in the pixel located in the **101st row and 150th column**.\n"
   ],
   "metadata": {
    "collapsed": false
   },
   "id": "40fdc418f4919926"
  },
  {
   "cell_type": "code",
   "execution_count": 2,
   "outputs": [
    {
     "name": "stdout",
     "output_type": "stream",
     "text": [
      "The intensity value of the pixel at row 101 and column 150 is: 42\n"
     ]
    }
   ],
   "source": [
    "# Specify the coordinates of the pixel you want to check\n",
    "row_index = 100  # Note: Python uses 0-based indexing, so 100 corresponds to the 101st row\n",
    "col_index = 149  # Note: Python uses 0-based indexing, so 149 corresponds to the 150th column\n",
    "\n",
    "# Get the intensity value of the specified pixel\n",
    "pixel_intensity = image_array[row_index, col_index]\n",
    "\n",
    "# Print the intensity value\n",
    "print(f\"The intensity value of the pixel at row {row_index + 1} and column {col_index + 1} is: {pixel_intensity}\")\n"
   ],
   "metadata": {
    "collapsed": false,
    "ExecuteTime": {
     "end_time": "2023-11-29T13:59:12.456022600Z",
     "start_time": "2023-11-29T13:59:12.456022600Z"
    }
   },
   "id": "32f2b5fb68652a55"
  },
  {
   "cell_type": "markdown",
   "source": [
    "This code retrieves the intensity value of the pixel at the specified row and column in the gray image_array NumPy array.<br>Note that the row and column indices are adjusted by 1 because Python uses 0-based indexing.\n"
   ],
   "metadata": {
    "collapsed": false
   },
   "id": "ceadece4b2b520ac"
  },
  {
   "cell_type": "code",
   "execution_count": 2,
   "outputs": [],
   "source": [],
   "metadata": {
    "collapsed": false,
    "ExecuteTime": {
     "end_time": "2023-11-29T13:59:12.462796400Z",
     "start_time": "2023-11-29T13:59:12.460775900Z"
    }
   },
   "id": "c5628e7e8d440294"
  }
 ],
 "metadata": {
  "kernelspec": {
   "display_name": "Python 3",
   "language": "python",
   "name": "python3"
  },
  "language_info": {
   "codemirror_mode": {
    "name": "ipython",
    "version": 2
   },
   "file_extension": ".py",
   "mimetype": "text/x-python",
   "name": "python",
   "nbconvert_exporter": "python",
   "pygments_lexer": "ipython2",
   "version": "2.7.6"
  }
 },
 "nbformat": 4,
 "nbformat_minor": 5
}
